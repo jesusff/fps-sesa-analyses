{
 "cells": [
  {
   "cell_type": "markdown",
   "id": "338b0c8f-45e5-4c5d-b688-e9197391741f",
   "metadata": {},
   "source": [
    "# Urban effects on FPS-SESA simulations\n"
   ]
  },
  {
   "cell_type": "markdown",
   "id": "cefd1fa6-4349-4bc4-8174-d1382506ff84",
   "metadata": {},
   "source": [
    "Let's first have a look at the urban fraction as seen by the model. This is land use type 13 (Urban and built-up) in MODIS data."
   ]
  },
  {
   "cell_type": "code",
   "execution_count": 8,
   "id": "c050cc9b-ba6b-47c3-b815-f0ab84a39bb5",
   "metadata": {},
   "outputs": [],
   "source": [
    "import cartopy.crs as ccrs\n",
    "import cartopy.feature as cfea\n",
    "import matplotlib.pyplot as plt\n",
    "import numpy as np\n",
    "import xarray as xr\n",
    "from dask.diagnostics import ProgressBar\n",
    "from matplotlib import cm\n",
    "from os.path import exists\n",
    "\n",
    "ProgressBar().register()\n",
    "\n",
    "MODIS_LAND_USE = {\n",
    "  'Urban and built-up': 13,\n",
    "  'Water bodies': 17\n",
    "}"
   ]
  },
  {
   "cell_type": "markdown",
   "id": "9f99caf1-de29-4cd1-ae05-94440e832c5f",
   "metadata": {},
   "source": [
    "## Static fields"
   ]
  },
  {
   "cell_type": "code",
   "execution_count": 4,
   "id": "033453d6-3b54-4628-91f9-3804efac2219",
   "metadata": {},
   "outputs": [],
   "source": [
    "url = 'https://data.meteo.unican.es/thredds/dodsC/CORDEX/fps/sesa/output/CORDEX/output/CSAM-4i/UCAN/ECMWF-ERA5/evaluation/r1i1p1f1/UCAN-WRF433/v1/fx/CORDEX_output_CSAM-4i_ECMWF-ERA5_evaluation_r1i1p1f1_UCAN-WRF433_v1_fx'\n",
    "ds = xr.open_dataset(url)"
   ]
  },
  {
   "cell_type": "markdown",
   "id": "52bba1be-5c16-443e-bb27-f3378bf84386",
   "metadata": {},
   "source": [
    "This loaded all fixed variables information into `ds`. Variables can be accessed as attributes of this object. E.g. land use:"
   ]
  },
  {
   "cell_type": "code",
   "execution_count": 3,
   "id": "a515c00c-a8c6-43ed-a4ae-12bcae25a15f",
   "metadata": {},
   "outputs": [
    {
     "data": {
      "text/html": [
       "<div><svg style=\"position: absolute; width: 0; height: 0; overflow: hidden\">\n",
       "<defs>\n",
       "<symbol id=\"icon-database\" viewBox=\"0 0 32 32\">\n",
       "<path d=\"M16 0c-8.837 0-16 2.239-16 5v4c0 2.761 7.163 5 16 5s16-2.239 16-5v-4c0-2.761-7.163-5-16-5z\"></path>\n",
       "<path d=\"M16 17c-8.837 0-16-2.239-16-5v6c0 2.761 7.163 5 16 5s16-2.239 16-5v-6c0 2.761-7.163 5-16 5z\"></path>\n",
       "<path d=\"M16 26c-8.837 0-16-2.239-16-5v6c0 2.761 7.163 5 16 5s16-2.239 16-5v-6c0 2.761-7.163 5-16 5z\"></path>\n",
       "</symbol>\n",
       "<symbol id=\"icon-file-text2\" viewBox=\"0 0 32 32\">\n",
       "<path d=\"M28.681 7.159c-0.694-0.947-1.662-2.053-2.724-3.116s-2.169-2.030-3.116-2.724c-1.612-1.182-2.393-1.319-2.841-1.319h-15.5c-1.378 0-2.5 1.121-2.5 2.5v27c0 1.378 1.122 2.5 2.5 2.5h23c1.378 0 2.5-1.122 2.5-2.5v-19.5c0-0.448-0.137-1.23-1.319-2.841zM24.543 5.457c0.959 0.959 1.712 1.825 2.268 2.543h-4.811v-4.811c0.718 0.556 1.584 1.309 2.543 2.268zM28 29.5c0 0.271-0.229 0.5-0.5 0.5h-23c-0.271 0-0.5-0.229-0.5-0.5v-27c0-0.271 0.229-0.5 0.5-0.5 0 0 15.499-0 15.5 0v7c0 0.552 0.448 1 1 1h7v19.5z\"></path>\n",
       "<path d=\"M23 26h-14c-0.552 0-1-0.448-1-1s0.448-1 1-1h14c0.552 0 1 0.448 1 1s-0.448 1-1 1z\"></path>\n",
       "<path d=\"M23 22h-14c-0.552 0-1-0.448-1-1s0.448-1 1-1h14c0.552 0 1 0.448 1 1s-0.448 1-1 1z\"></path>\n",
       "<path d=\"M23 18h-14c-0.552 0-1-0.448-1-1s0.448-1 1-1h14c0.552 0 1 0.448 1 1s-0.448 1-1 1z\"></path>\n",
       "</symbol>\n",
       "</defs>\n",
       "</svg>\n",
       "<style>/* CSS stylesheet for displaying xarray objects in jupyterlab.\n",
       " *\n",
       " */\n",
       "\n",
       ":root {\n",
       "  --xr-font-color0: var(--jp-content-font-color0, rgba(0, 0, 0, 1));\n",
       "  --xr-font-color2: var(--jp-content-font-color2, rgba(0, 0, 0, 0.54));\n",
       "  --xr-font-color3: var(--jp-content-font-color3, rgba(0, 0, 0, 0.38));\n",
       "  --xr-border-color: var(--jp-border-color2, #e0e0e0);\n",
       "  --xr-disabled-color: var(--jp-layout-color3, #bdbdbd);\n",
       "  --xr-background-color: var(--jp-layout-color0, white);\n",
       "  --xr-background-color-row-even: var(--jp-layout-color1, white);\n",
       "  --xr-background-color-row-odd: var(--jp-layout-color2, #eeeeee);\n",
       "}\n",
       "\n",
       "html[theme=dark],\n",
       "body.vscode-dark {\n",
       "  --xr-font-color0: rgba(255, 255, 255, 1);\n",
       "  --xr-font-color2: rgba(255, 255, 255, 0.54);\n",
       "  --xr-font-color3: rgba(255, 255, 255, 0.38);\n",
       "  --xr-border-color: #1F1F1F;\n",
       "  --xr-disabled-color: #515151;\n",
       "  --xr-background-color: #111111;\n",
       "  --xr-background-color-row-even: #111111;\n",
       "  --xr-background-color-row-odd: #313131;\n",
       "}\n",
       "\n",
       ".xr-wrap {\n",
       "  display: block !important;\n",
       "  min-width: 300px;\n",
       "  max-width: 700px;\n",
       "}\n",
       "\n",
       ".xr-text-repr-fallback {\n",
       "  /* fallback to plain text repr when CSS is not injected (untrusted notebook) */\n",
       "  display: none;\n",
       "}\n",
       "\n",
       ".xr-header {\n",
       "  padding-top: 6px;\n",
       "  padding-bottom: 6px;\n",
       "  margin-bottom: 4px;\n",
       "  border-bottom: solid 1px var(--xr-border-color);\n",
       "}\n",
       "\n",
       ".xr-header > div,\n",
       ".xr-header > ul {\n",
       "  display: inline;\n",
       "  margin-top: 0;\n",
       "  margin-bottom: 0;\n",
       "}\n",
       "\n",
       ".xr-obj-type,\n",
       ".xr-array-name {\n",
       "  margin-left: 2px;\n",
       "  margin-right: 10px;\n",
       "}\n",
       "\n",
       ".xr-obj-type {\n",
       "  color: var(--xr-font-color2);\n",
       "}\n",
       "\n",
       ".xr-sections {\n",
       "  padding-left: 0 !important;\n",
       "  display: grid;\n",
       "  grid-template-columns: 150px auto auto 1fr 20px 20px;\n",
       "}\n",
       "\n",
       ".xr-section-item {\n",
       "  display: contents;\n",
       "}\n",
       "\n",
       ".xr-section-item input {\n",
       "  display: none;\n",
       "}\n",
       "\n",
       ".xr-section-item input + label {\n",
       "  color: var(--xr-disabled-color);\n",
       "}\n",
       "\n",
       ".xr-section-item input:enabled + label {\n",
       "  cursor: pointer;\n",
       "  color: var(--xr-font-color2);\n",
       "}\n",
       "\n",
       ".xr-section-item input:enabled + label:hover {\n",
       "  color: var(--xr-font-color0);\n",
       "}\n",
       "\n",
       ".xr-section-summary {\n",
       "  grid-column: 1;\n",
       "  color: var(--xr-font-color2);\n",
       "  font-weight: 500;\n",
       "}\n",
       "\n",
       ".xr-section-summary > span {\n",
       "  display: inline-block;\n",
       "  padding-left: 0.5em;\n",
       "}\n",
       "\n",
       ".xr-section-summary-in:disabled + label {\n",
       "  color: var(--xr-font-color2);\n",
       "}\n",
       "\n",
       ".xr-section-summary-in + label:before {\n",
       "  display: inline-block;\n",
       "  content: '►';\n",
       "  font-size: 11px;\n",
       "  width: 15px;\n",
       "  text-align: center;\n",
       "}\n",
       "\n",
       ".xr-section-summary-in:disabled + label:before {\n",
       "  color: var(--xr-disabled-color);\n",
       "}\n",
       "\n",
       ".xr-section-summary-in:checked + label:before {\n",
       "  content: '▼';\n",
       "}\n",
       "\n",
       ".xr-section-summary-in:checked + label > span {\n",
       "  display: none;\n",
       "}\n",
       "\n",
       ".xr-section-summary,\n",
       ".xr-section-inline-details {\n",
       "  padding-top: 4px;\n",
       "  padding-bottom: 4px;\n",
       "}\n",
       "\n",
       ".xr-section-inline-details {\n",
       "  grid-column: 2 / -1;\n",
       "}\n",
       "\n",
       ".xr-section-details {\n",
       "  display: none;\n",
       "  grid-column: 1 / -1;\n",
       "  margin-bottom: 5px;\n",
       "}\n",
       "\n",
       ".xr-section-summary-in:checked ~ .xr-section-details {\n",
       "  display: contents;\n",
       "}\n",
       "\n",
       ".xr-array-wrap {\n",
       "  grid-column: 1 / -1;\n",
       "  display: grid;\n",
       "  grid-template-columns: 20px auto;\n",
       "}\n",
       "\n",
       ".xr-array-wrap > label {\n",
       "  grid-column: 1;\n",
       "  vertical-align: top;\n",
       "}\n",
       "\n",
       ".xr-preview {\n",
       "  color: var(--xr-font-color3);\n",
       "}\n",
       "\n",
       ".xr-array-preview,\n",
       ".xr-array-data {\n",
       "  padding: 0 5px !important;\n",
       "  grid-column: 2;\n",
       "}\n",
       "\n",
       ".xr-array-data,\n",
       ".xr-array-in:checked ~ .xr-array-preview {\n",
       "  display: none;\n",
       "}\n",
       "\n",
       ".xr-array-in:checked ~ .xr-array-data,\n",
       ".xr-array-preview {\n",
       "  display: inline-block;\n",
       "}\n",
       "\n",
       ".xr-dim-list {\n",
       "  display: inline-block !important;\n",
       "  list-style: none;\n",
       "  padding: 0 !important;\n",
       "  margin: 0;\n",
       "}\n",
       "\n",
       ".xr-dim-list li {\n",
       "  display: inline-block;\n",
       "  padding: 0;\n",
       "  margin: 0;\n",
       "}\n",
       "\n",
       ".xr-dim-list:before {\n",
       "  content: '(';\n",
       "}\n",
       "\n",
       ".xr-dim-list:after {\n",
       "  content: ')';\n",
       "}\n",
       "\n",
       ".xr-dim-list li:not(:last-child):after {\n",
       "  content: ',';\n",
       "  padding-right: 5px;\n",
       "}\n",
       "\n",
       ".xr-has-index {\n",
       "  font-weight: bold;\n",
       "}\n",
       "\n",
       ".xr-var-list,\n",
       ".xr-var-item {\n",
       "  display: contents;\n",
       "}\n",
       "\n",
       ".xr-var-item > div,\n",
       ".xr-var-item label,\n",
       ".xr-var-item > .xr-var-name span {\n",
       "  background-color: var(--xr-background-color-row-even);\n",
       "  margin-bottom: 0;\n",
       "}\n",
       "\n",
       ".xr-var-item > .xr-var-name:hover span {\n",
       "  padding-right: 5px;\n",
       "}\n",
       "\n",
       ".xr-var-list > li:nth-child(odd) > div,\n",
       ".xr-var-list > li:nth-child(odd) > label,\n",
       ".xr-var-list > li:nth-child(odd) > .xr-var-name span {\n",
       "  background-color: var(--xr-background-color-row-odd);\n",
       "}\n",
       "\n",
       ".xr-var-name {\n",
       "  grid-column: 1;\n",
       "}\n",
       "\n",
       ".xr-var-dims {\n",
       "  grid-column: 2;\n",
       "}\n",
       "\n",
       ".xr-var-dtype {\n",
       "  grid-column: 3;\n",
       "  text-align: right;\n",
       "  color: var(--xr-font-color2);\n",
       "}\n",
       "\n",
       ".xr-var-preview {\n",
       "  grid-column: 4;\n",
       "}\n",
       "\n",
       ".xr-var-name,\n",
       ".xr-var-dims,\n",
       ".xr-var-dtype,\n",
       ".xr-preview,\n",
       ".xr-attrs dt {\n",
       "  white-space: nowrap;\n",
       "  overflow: hidden;\n",
       "  text-overflow: ellipsis;\n",
       "  padding-right: 10px;\n",
       "}\n",
       "\n",
       ".xr-var-name:hover,\n",
       ".xr-var-dims:hover,\n",
       ".xr-var-dtype:hover,\n",
       ".xr-attrs dt:hover {\n",
       "  overflow: visible;\n",
       "  width: auto;\n",
       "  z-index: 1;\n",
       "}\n",
       "\n",
       ".xr-var-attrs,\n",
       ".xr-var-data {\n",
       "  display: none;\n",
       "  background-color: var(--xr-background-color) !important;\n",
       "  padding-bottom: 5px !important;\n",
       "}\n",
       "\n",
       ".xr-var-attrs-in:checked ~ .xr-var-attrs,\n",
       ".xr-var-data-in:checked ~ .xr-var-data {\n",
       "  display: block;\n",
       "}\n",
       "\n",
       ".xr-var-data > table {\n",
       "  float: right;\n",
       "}\n",
       "\n",
       ".xr-var-name span,\n",
       ".xr-var-data,\n",
       ".xr-attrs {\n",
       "  padding-left: 25px !important;\n",
       "}\n",
       "\n",
       ".xr-attrs,\n",
       ".xr-var-attrs,\n",
       ".xr-var-data {\n",
       "  grid-column: 1 / -1;\n",
       "}\n",
       "\n",
       "dl.xr-attrs {\n",
       "  padding: 0;\n",
       "  margin: 0;\n",
       "  display: grid;\n",
       "  grid-template-columns: 125px auto;\n",
       "}\n",
       "\n",
       ".xr-attrs dt,\n",
       ".xr-attrs dd {\n",
       "  padding: 0;\n",
       "  margin: 0;\n",
       "  float: left;\n",
       "  padding-right: 10px;\n",
       "  width: auto;\n",
       "}\n",
       "\n",
       ".xr-attrs dt {\n",
       "  font-weight: normal;\n",
       "  grid-column: 1;\n",
       "}\n",
       "\n",
       ".xr-attrs dt:hover span {\n",
       "  display: inline-block;\n",
       "  background: var(--xr-background-color);\n",
       "  padding-right: 10px;\n",
       "}\n",
       "\n",
       ".xr-attrs dd {\n",
       "  grid-column: 2;\n",
       "  white-space: pre-wrap;\n",
       "  word-break: break-all;\n",
       "}\n",
       "\n",
       ".xr-icon-database,\n",
       ".xr-icon-file-text2 {\n",
       "  display: inline-block;\n",
       "  vertical-align: middle;\n",
       "  width: 1em;\n",
       "  height: 1.5em !important;\n",
       "  stroke-width: 0;\n",
       "  stroke: currentColor;\n",
       "  fill: currentColor;\n",
       "}\n",
       "</style><pre class='xr-text-repr-fallback'>&lt;xarray.DataArray &#x27;landuse&#x27; (lat: 451, lon: 676)&gt;\n",
       "[304876 values with dtype=float32]\n",
       "Coordinates:\n",
       "  * lon      (lon) float64 -75.0 -74.96 -74.92 -74.88 ... -48.08 -48.04 -48.0\n",
       "  * lat      (lat) float64 -35.0 -34.96 -34.92 -34.88 ... -17.08 -17.04 -17.0\n",
       "Attributes:\n",
       "    standard_name:  land_cover\n",
       "    long_name:      Land Cover\n",
       "    units:          1\n",
       "    cell_methods:   time: point\n",
       "    _ChunkSizes:    [50 50]</pre><div class='xr-wrap' style='display:none'><div class='xr-header'><div class='xr-obj-type'>xarray.DataArray</div><div class='xr-array-name'>'landuse'</div><ul class='xr-dim-list'><li><span class='xr-has-index'>lat</span>: 451</li><li><span class='xr-has-index'>lon</span>: 676</li></ul></div><ul class='xr-sections'><li class='xr-section-item'><div class='xr-array-wrap'><input id='section-74c952bf-d74c-4283-95f1-5d1bc356d5c3' class='xr-array-in' type='checkbox' checked><label for='section-74c952bf-d74c-4283-95f1-5d1bc356d5c3' title='Show/hide data repr'><svg class='icon xr-icon-database'><use xlink:href='#icon-database'></use></svg></label><div class='xr-array-preview xr-preview'><span>...</span></div><div class='xr-array-data'><pre>[304876 values with dtype=float32]</pre></div></div></li><li class='xr-section-item'><input id='section-96303b98-31f2-496a-82f1-e39bb51bafed' class='xr-section-summary-in' type='checkbox'  checked><label for='section-96303b98-31f2-496a-82f1-e39bb51bafed' class='xr-section-summary' >Coordinates: <span>(2)</span></label><div class='xr-section-inline-details'></div><div class='xr-section-details'><ul class='xr-var-list'><li class='xr-var-item'><div class='xr-var-name'><span class='xr-has-index'>lon</span></div><div class='xr-var-dims'>(lon)</div><div class='xr-var-dtype'>float64</div><div class='xr-var-preview xr-preview'>-75.0 -74.96 ... -48.04 -48.0</div><input id='attrs-0f70aecf-d18f-4943-b305-f33ffa239889' class='xr-var-attrs-in' type='checkbox' ><label for='attrs-0f70aecf-d18f-4943-b305-f33ffa239889' title='Show/Hide attributes'><svg class='icon xr-icon-file-text2'><use xlink:href='#icon-file-text2'></use></svg></label><input id='data-e1990de6-66a4-4805-a95b-c3dbb578fdb4' class='xr-var-data-in' type='checkbox'><label for='data-e1990de6-66a4-4805-a95b-c3dbb578fdb4' title='Show/Hide data repr'><svg class='icon xr-icon-database'><use xlink:href='#icon-database'></use></svg></label><div class='xr-var-attrs'><dl class='xr-attrs'><dt><span>standard_name :</span></dt><dd>longitude</dd><dt><span>axis :</span></dt><dd>X</dd><dt><span>long_name :</span></dt><dd>Longitude</dd><dt><span>units :</span></dt><dd>degrees_east</dd><dt><span>_ChunkSizes :</span></dt><dd>676</dd></dl></div><div class='xr-var-data'><pre>array([-75.  , -74.96, -74.92, ..., -48.08, -48.04, -48.  ])</pre></div></li><li class='xr-var-item'><div class='xr-var-name'><span class='xr-has-index'>lat</span></div><div class='xr-var-dims'>(lat)</div><div class='xr-var-dtype'>float64</div><div class='xr-var-preview xr-preview'>-35.0 -34.96 ... -17.04 -17.0</div><input id='attrs-dd7b0393-ee33-465b-85c4-5d4981782b0b' class='xr-var-attrs-in' type='checkbox' ><label for='attrs-dd7b0393-ee33-465b-85c4-5d4981782b0b' title='Show/Hide attributes'><svg class='icon xr-icon-file-text2'><use xlink:href='#icon-file-text2'></use></svg></label><input id='data-97bfb147-805e-4d37-9a36-c16026e7a8b5' class='xr-var-data-in' type='checkbox'><label for='data-97bfb147-805e-4d37-9a36-c16026e7a8b5' title='Show/Hide data repr'><svg class='icon xr-icon-database'><use xlink:href='#icon-database'></use></svg></label><div class='xr-var-attrs'><dl class='xr-attrs'><dt><span>standard_name :</span></dt><dd>latitude</dd><dt><span>axis :</span></dt><dd>Y</dd><dt><span>long_name :</span></dt><dd>Latitude</dd><dt><span>units :</span></dt><dd>degrees_north</dd><dt><span>_ChunkSizes :</span></dt><dd>451</dd></dl></div><div class='xr-var-data'><pre>array([-35.  , -34.96, -34.92, ..., -17.08, -17.04, -17.  ])</pre></div></li></ul></div></li><li class='xr-section-item'><input id='section-569d29c9-83b9-42f7-b450-137e90fdcff2' class='xr-section-summary-in' type='checkbox'  checked><label for='section-569d29c9-83b9-42f7-b450-137e90fdcff2' class='xr-section-summary' >Attributes: <span>(5)</span></label><div class='xr-section-inline-details'></div><div class='xr-section-details'><dl class='xr-attrs'><dt><span>standard_name :</span></dt><dd>land_cover</dd><dt><span>long_name :</span></dt><dd>Land Cover</dd><dt><span>units :</span></dt><dd>1</dd><dt><span>cell_methods :</span></dt><dd>time: point</dd><dt><span>_ChunkSizes :</span></dt><dd>[50 50]</dd></dl></div></li></ul></div></div>"
      ],
      "text/plain": [
       "<xarray.DataArray 'landuse' (lat: 451, lon: 676)>\n",
       "[304876 values with dtype=float32]\n",
       "Coordinates:\n",
       "  * lon      (lon) float64 -75.0 -74.96 -74.92 -74.88 ... -48.08 -48.04 -48.0\n",
       "  * lat      (lat) float64 -35.0 -34.96 -34.92 -34.88 ... -17.08 -17.04 -17.0\n",
       "Attributes:\n",
       "    standard_name:  land_cover\n",
       "    long_name:      Land Cover\n",
       "    units:          1\n",
       "    cell_methods:   time: point\n",
       "    _ChunkSizes:    [50 50]"
      ]
     },
     "execution_count": 3,
     "metadata": {},
     "output_type": "execute_result"
    }
   ],
   "source": [
    "ds.landuse"
   ]
  },
  {
   "cell_type": "markdown",
   "id": "e05d0be0-67d3-4762-818a-863272ac10ce",
   "metadata": {},
   "source": [
    "This is how the common spatial domain looks like (this operation takes some time since some data needs to be retrieved):"
   ]
  },
  {
   "cell_type": "code",
   "execution_count": 5,
   "id": "a62d235b-4498-48ae-a309-c9e496aca43e",
   "metadata": {},
   "outputs": [
    {
     "name": "stderr",
     "output_type": "stream",
     "text": [
      "/srv/conda/envs/notebook/lib/python3.7/site-packages/cartopy/io/__init__.py:241: DownloadWarning: Downloading: https://naturalearth.s3.amazonaws.com/50m_physical/ne_50m_coastline.zip\n",
      "  warnings.warn(f'Downloading: {url}', DownloadWarning)\n",
      "/srv/conda/envs/notebook/lib/python3.7/site-packages/cartopy/io/__init__.py:241: DownloadWarning: Downloading: https://naturalearth.s3.amazonaws.com/50m_cultural/ne_50m_admin_0_boundary_lines_land.zip\n",
      "  warnings.warn(f'Downloading: {url}', DownloadWarning)\n"
     ]
    },
    {
     "data": {
      "image/png": "[encoded data removed]",
      "text/plain": [
       "<Figure size 432x288 with 2 Axes>"
      ]
     },
     "metadata": {
      "needs_background": "light"
     },
     "output_type": "display_data"
    }
   ],
   "source": [
    "p = (ds.landuse == MODIS_LAND_USE['Urban and built-up']).plot(\n",
    "    transform = ccrs.PlateCarree(),\n",
    "    subplot_kws = dict(projection=ccrs.PlateCarree()),\n",
    "    cmap = cm.Reds, vmax = 1.5\n",
    ")\n",
    "fa = p.axes.add_feature(cfea.COASTLINE, linewidth=1)\n",
    "fa = p.axes.add_feature(cfea.BORDERS, linewidth=0.5)"
   ]
  },
  {
   "cell_type": "markdown",
   "id": "4e5ec3be-0acf-40ec-a6cd-3470be5d12b1",
   "metadata": {},
   "source": [
    "This is remapped to the regular lon-lat grid. The original extent of the cities is quite similar and in the rotated grid cities such as Buenos Aires are inside the domain. The following code would show it.\n",
    "```python\n",
    "url = 'https://data.meteo.unican.es/thredds/dodsC/CORDEX/fps/sesa/ncml/CORDEX/output/CSAM-4/UCAN/ECMWF-ERA5/evaluation/r1i1p1f1/UCAN-WRF433/v1/fx/v20220727/CORDEX_output_CSAM-4_ECMWF-ERA5_evaluation_r1i1p1f1_UCAN-WRF433_v1_fx_v20220727'\n",
    "ds = xr.open_dataset(url)\n",
    "proj = ccrs.RotatedPole(\n",
    "  pole_longitude=ds.rotated_pole.grid_north_pole_longitude+180,\n",
    "  pole_latitude=ds.rotated_pole.grid_north_pole_latitude\n",
    ")\n",
    "p = (ds.landuse == MODIS_LAND_USE['Urban and built-up']).plot(x='lon', y='lat',\n",
    "    transform = ccrs.PlateCarree(),\n",
    "    subplot_kws = dict(projection=proj),\n",
    "    cmap = cm.viridis_r\n",
    ")\n",
    "fa = p.axes.add_feature(cfea.COASTLINE, linewidth=1)\n",
    "fa = p.axes.add_feature(cfea.BORDERS, linewidth=0.5)\n",
    "```"
   ]
  },
  {
   "cell_type": "markdown",
   "id": "2a2aa333-994a-484e-9739-ffabb116bb9e",
   "metadata": {},
   "source": [
    "Major rivers and lakes are also seen by the model at this resolution."
   ]
  },
  {
   "cell_type": "code",
   "execution_count": 5,
   "id": "c6ff3e9e-360c-4adc-9a3f-d47707da8611",
   "metadata": {},
   "outputs": [
    {
     "data": {
      "image/png": "[encoded data removed]",
      "text/plain": [
       "<Figure size 432x288 with 2 Axes>"
      ]
     },
     "metadata": {
      "needs_background": "light"
     },
     "output_type": "display_data"
    }
   ],
   "source": [
    "p = (ds.landuse == MODIS_LAND_USE['Water bodies']).plot(\n",
    "    transform = ccrs.PlateCarree(),\n",
    "    subplot_kws = dict(projection=ccrs.PlateCarree()),\n",
    "    cmap = cm.Reds, vmax = 1.5\n",
    ")\n",
    "fa = p.axes.add_feature(cfea.COASTLINE, linewidth=1)\n",
    "fa = p.axes.add_feature(cfea.BORDERS, linewidth=0.5)"
   ]
  },
  {
   "cell_type": "markdown",
   "id": "6444dbd6-77bc-4614-b383-c0c4bd820227",
   "metadata": {},
   "source": [
    "## Analysis of minimum temperatures\n",
    "\n",
    "See https://github.com/jesusff/city_detect/blob/main/RCM_urban_effects.ipynb"
   ]
  },
  {
   "cell_type": "code",
   "execution_count": 6,
   "id": "43d2efe9-d3f7-433b-9b4f-a2ad05b9740d",
   "metadata": {},
   "outputs": [],
   "source": [
    "var = 'tasmin'\n",
    "city = 'Buenos Aires'\n",
    "\n",
    "location = {\n",
    "  'Buenos Aires': dict(lon=-58.66, lat=-34.49),\n",
    "  'Porto Alegre': dict(lon=-51.17, lat=-30.03),\n",
    "}\n",
    "dlon = dlat = 13\n",
    "\n",
    "urls = {\n",
    "  'UCAN-WRF433' :\n",
    "     'https://data.meteo.unican.es/thredds/dodsC/CORDEX/fps/sesa/output/CORDEX/output/CSAM-4i/UCAN/ECMWF-ERA5/evaluation/r1i1p1f1/UCAN-WRF433/v1/day/CORDEX_output_CSAM-4i_ECMWF-ERA5_evaluation_r1i1p1f1_UCAN-WRF433_v1_day',\n",
    "  'USP-RegCM471' : \n",
    "     'https://data.meteo.unican.es/thredds/dodsC/CORDEX/fps/sesa/output/CORDEX/output/CSAM-4i/USP/ECMWF-ERA5/historical/r1i1p1f1/USP-RegCM471/v0/day/CORDEX_output_CSAM-4i_ECMWF-ERA5_historical_r1i1p1f1_USP-RegCM471_v0_day', \n",
    "  'ERA5' :\n",
    "     'https://data.meteo.unican.es/thredds/dodsC/CORDEX/fps/sesa/reanalysis/ERA5-CSAM-4i_day',\n",
    "  'MSWX' :\n",
    "     'https://data.meteo.unican.es/thredds/dodsC/CORDEX/fps/sesa/observations/CSAM-4i_GloH2O-MSWX_day'\n",
    "}\n",
    "\n",
    "def load_city(nc, url, var, scale = 1.0):\n",
    "  if exists(nc):\n",
    "    rval = xr.open_dataset(nc)\n",
    "    print(f'Data loaded from cache: {nc}')\n",
    "  else:\n",
    "    if type(url) == type([]):\n",
    "      ds = xr.open_mfdataset(url, chunks = {'lon': 10, 'lat': 10})\n",
    "    else:\n",
    "      ds = xr.open_dataset(url, chunks = {'lon': 10, 'lat': 10})\n",
    "      ilon = np.argmin((ds['lon'].values-location[city]['lon'])**2)\n",
    "      ilat = np.argmin((ds['lat'].values-location[city]['lat'])**2)\n",
    "      rval = ds.isel(\n",
    "        lat = slice(ilat-dlat,ilat+dlat),\n",
    "        lon = slice(ilon-dlon,ilon+dlon)\n",
    "      ).compute()\n",
    "    rval.to_netcdf(nc, format = 'NETCDF4', encoding={var:{'zlib':True}})\n",
    "  return(rval)   \n",
    "\n",
    "def index_average_n_highest(ds, n = 10):\n",
    "  ''' Average of n days with the largest tasmin on the city\n",
    "  \n",
    "  Averages spatial anomalies with respect to this maximum tasmin\n",
    "  '''\n",
    "  rval = (ds[var].isel(time = (ds[var]\n",
    "    .isel(**{'lon': dlon, 'lat': dlat})\n",
    "    .argsort()[::-1][:n] # take the n highest\n",
    "    .values\n",
    "  )))\n",
    "  rval = rval - rval.isel(**{'lon': dlon, 'lat': dlat}).values[:,None,None]\n",
    "  rval = rval.mean(dim='time')\n",
    "  return(rval)"
   ]
  },
  {
   "cell_type": "code",
   "execution_count": 11,
   "id": "08d1409b-0c14-4fb3-a9fa-1cbc0a79111a",
   "metadata": {},
   "outputs": [
    {
     "name": "stdout",
     "output_type": "stream",
     "text": [
      " ** UCAN-WRF433\n",
      "Data loaded from cache: tasmin_UCAN-WRF433_Buenos-Aires.nc\n"
     ]
    },
    {
     "data": {
      "image/png": "[encoded data removed]",
      "text/plain": [
       "<Figure size 576x504 with 2 Axes>"
      ]
     },
     "metadata": {
      "needs_background": "light"
     },
     "output_type": "display_data"
    },
    {
     "name": "stdout",
     "output_type": "stream",
     "text": [
      " ** USP-RegCM471\n",
      "Data loaded from cache: tasmin_USP-RegCM471_Buenos-Aires.nc\n"
     ]
    },
    {
     "data": {
      "image/png": "[encoded data removed]",
      "text/plain": [
       "<Figure size 576x504 with 2 Axes>"
      ]
     },
     "metadata": {
      "needs_background": "light"
     },
     "output_type": "display_data"
    },
    {
     "name": "stdout",
     "output_type": "stream",
     "text": [
      " ** ERA5\n",
      "Data loaded from cache: tasmin_ERA5_Buenos-Aires.nc\n"
     ]
    },
    {
     "data": {
      "image/png": "[encoded data removed]",
      "text/plain": [
       "<Figure size 576x504 with 2 Axes>"
      ]
     },
     "metadata": {
      "needs_background": "light"
     },
     "output_type": "display_data"
    },
    {
     "name": "stdout",
     "output_type": "stream",
     "text": [
      " ** MSWX\n",
      "Data loaded from cache: tasmin_MSWX_Buenos-Aires.nc\n"
     ]
    },
    {
     "data": {
      "image/png": "[encoded data removed]",
      "text/plain": [
       "<Figure size 576x504 with 2 Axes>"
      ]
     },
     "metadata": {
      "needs_background": "light"
     },
     "output_type": "display_data"
    }
   ],
   "source": [
    "for dataset in ['UCAN-WRF433', 'USP-RegCM471', 'ERA5', 'MSWX']:\n",
    "  print(f' ** {dataset}')\n",
    "  pcity = city.replace(' ','-')\n",
    "  ds_city = load_city(f'{var}_{dataset}_{pcity}.nc', urls[dataset], var)\n",
    "  index = index_average_n_highest(ds_city)\n",
    "  proj = ccrs.PlateCarree()\n",
    "  lonlat = ccrs.PlateCarree()\n",
    "  f = plt.figure(figsize=(8,7))\n",
    "  ax = plt.axes(projection=proj)\n",
    "  index.plot.pcolormesh(\n",
    "    ax=ax, transform=lonlat, cmap=plt.cm.RdBu_r, vmax=4\n",
    "  )\n",
    "  plt.title(f'{dataset} / {city}')\n",
    "  ax.coastlines(resolution='50m', linewidth=1, color='gray')\n",
    "  ax.scatter(location[city]['lon'], location[city]['lat'], transform=lonlat, s=200, facecolor='none', edgecolor='grey')\n",
    "  f.savefig(f'{dataset}_{pcity}.png', facecolor='white')\n",
    "  plt.show()\n",
    "  plt.close('all')"
   ]
  }
 ],
 "metadata": {
  "kernelspec": {
   "display_name": "Python 3 (ipykernel)",
   "language": "python",
   "name": "python3"
  },
  "language_info": {
   "codemirror_mode": {
    "name": "ipython",
    "version": 3
   },
   "file_extension": ".py",
   "mimetype": "text/x-python",
   "name": "python",
   "nbconvert_exporter": "python",
   "pygments_lexer": "ipython3",
   "version": "3.7.12"
  }
 },
 "nbformat": 4,
 "nbformat_minor": 5
}
