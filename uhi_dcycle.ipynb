{
 "cells": [
  {
   "cell_type": "code",
   "execution_count": 1,
   "id": "41ecce59-6332-4b73-b4ec-767f51a66e5f",
   "metadata": {},
   "outputs": [],
   "source": [
    "import cartopy.crs as ccrs\n",
    "import cartopy.feature as cfea\n",
    "import geopandas as gpd\n",
    "import matplotlib.pyplot as plt\n",
    "import pandas as pd\n",
    "import numpy as np\n",
    "import xarray as xr\n",
    "from dask.diagnostics import ProgressBar\n",
    "from matplotlib import cm\n",
    "from os.path import exists\n",
    "\n",
    "ProgressBar().register()"
   ]
  },
  {
   "cell_type": "code",
   "execution_count": 2,
   "id": "0f8e65b6-e7ae-4758-b54e-550fe80f465c",
   "metadata": {},
   "outputs": [],
   "source": [
    "source = 'ERA5'\n",
    "source = 'USP-RegCM471'\n",
    "source = 'UCAN-WRF433'\n",
    "source = 'NCAR-WRF415'\n",
    "city = 'Porto Alegre'\n",
    "city = 'Cordoba'\n",
    "city = 'Buenos Aires'\n",
    "select = 'heatwaves'\n",
    "select = 'all'\n",
    "urban_thres = 0.10\n",
    "land_thres = 0.50\n",
    "size = 1.5 # degrees plotted around city center\n",
    "orog_vlim = dict(vmin=-400, vmax=1500)\n",
    "\n",
    "loc = {\n",
    "  'Buenos Aires': dict(\n",
    "    urb = dict(lat = -34.583, lon = -58.500),\n",
    "    rur = dict(lat = -34.817, lon = -58.533)  # Ezeiza\n",
    "  ),\n",
    "  'Cordoba': dict(\n",
    "    urb = dict(lat = -31.400, lon = -64.167),\n",
    "    # rur = dict(lat = -31.317, lon = -64.167) # Aero\n",
    "    rur = dict(lat = -31.3, lon = -64.127) # Aero moved to non-urban gridcell\n",
    "  ),\n",
    "  'Porto Alegre': dict( # made up points\n",
    "    urb = dict(lat = -30.032, lon = -51.174),\n",
    "    rur = dict(lat = -30.152, lon = -51.061)\n",
    "  ),\n",
    "}\n",
    "\n",
    "st_name = {\n",
    "  'Buenos Aires': dict(urb = 'BSAS-OBS', rur = 'EZEIZA-AERO'),\n",
    "  'Cordoba': dict(urb = 'CORDOBA-OBS', rur = 'CORDOBA-AERO'),\n",
    "}\n",
    "\n",
    "line_color = {'urb': 'black', 'rur': 'forestgreen'}\n",
    "\n",
    "ylim_var = dict(tas = (280,310), sfcWind = (0,6), hurs = (30,100))\n",
    "ylim_vardiff = dict(tas = (-1,3), sfcWind = (-2,0), hurs = (-15,10))\n",
    "\n",
    "urls_fx = {\n",
    "  'UCAN-WRF433' :\n",
    "     'https://data.meteo.unican.es/thredds/dodsC/CORDEX/fps/sesa/output/CORDEX/output/CSAM-4/UCAN/ECMWF-ERA5/evaluation/r1i1p1f1/UCAN-WRF433/v1/fx/CORDEX_output_CSAM-4_ECMWF-ERA5_evaluation_r1i1p1f1_UCAN-WRF433_v1_fx',\n",
    "  'NCAR-WRF415' : \n",
    "     'https://data.meteo.unican.es/thredds/dodsC/CORDEX/fps/sesa/output/CORDEX/output/CSAM-4i/NCAR/ERA5/evaluation/r1i1p1/NCAR-WRF415/v1/fx/CORDEX_output_CSAM-4i_ERA5_evaluation_r1i1p1_NCAR-WRF415_v1_fx',\n",
    "  'USP-RegCM471' : \n",
    "     'https://data.meteo.unican.es/thredds/dodsC/CORDEX/fps/sesa/output/CORDEX/output/CSAM-4/USP/ECMWF-ERA5/historical/r1i1p1f1/USP-RegCM471/v0/1hr/CORDEX_output_CSAM-4_ECMWF-ERA5_historical_r1i1p1f1_USP-RegCM471_v0_1hr', \n",
    "  'ERA5' :\n",
    "     'https://data.meteo.unican.es/thredds/dodsC/CORDEX/fps/sesa/reanalysis/ERA5-CSAM-4i_1hr',\n",
    "}\n",
    "\n",
    "urls_1hr = {\n",
    "  'UCAN-WRF433' :\n",
    "     'https://data.meteo.unican.es/thredds/dodsC/CORDEX/fps/sesa/output/CORDEX/output/CSAM-4/UCAN/ECMWF-ERA5/evaluation/r1i1p1f1/UCAN-WRF433/v1/1hr/CORDEX_output_CSAM-4_ECMWF-ERA5_evaluation_r1i1p1f1_UCAN-WRF433_v1_1hr',\n",
    "  'USP-RegCM471' : \n",
    "     'https://data.meteo.unican.es/thredds/dodsC/CORDEX/fps/sesa/output/CORDEX/output/CSAM-4i/USP/ECMWF-ERA5/historical/r1i1p1f1/USP-RegCM471/v0/3hr/CORDEX_output_CSAM-4i_ECMWF-ERA5_historical_r1i1p1f1_USP-RegCM471_v0_3hr', \n",
    "  'NCAR-WRF415' : \n",
    "     'https://data.meteo.unican.es/thredds/dodsC/CORDEX/fps/sesa/output/CORDEX/output/CSAM-4i/NCAR/ERA5/evaluation/r1i1p1/NCAR-WRF415/v1/1hr/CORDEX_output_CSAM-4i_ERA5_evaluation_r1i1p1_NCAR-WRF415_v1_1hr',\n",
    "  'ERA5' :\n",
    "     'https://data.meteo.unican.es/thredds/dodsC/CORDEX/fps/sesa/reanalysis/ERA5-CSAM-4i_1hr',\n",
    "}\n",
    "\n",
    "MODIS_LAND_USE = {\n",
    "  'Urban and built-up': 13,\n",
    "  'Water bodies': 17\n",
    "}\n",
    "\n",
    "pcity = city.replace(\" \",\"\")"
   ]
  },
  {
   "cell_type": "code",
   "execution_count": 3,
   "id": "839a6cef-a7fe-40e1-af2a-87c396a8adaa",
   "metadata": {},
   "outputs": [
    {
     "name": "stderr",
     "output_type": "stream",
     "text": [
      "/tmp/ipykernel_104420/75094153.py:3: UserWarning: Geometry is in a geographic CRS. Results from 'centroid' are likely incorrect. Use 'GeoSeries.to_crs()' to re-project geometries to a projected CRS before this operation.\n",
      "\n",
      "  clon = ucdb_city.centroid.x.values[0]\n",
      "/tmp/ipykernel_104420/75094153.py:4: UserWarning: Geometry is in a geographic CRS. Results from 'centroid' are likely incorrect. Use 'GeoSeries.to_crs()' to re-project geometries to a projected CRS before this operation.\n",
      "\n",
      "  clat = ucdb_city.centroid.y.values[0]\n"
     ]
    }
   ],
   "source": [
    "ucdb_info = gpd.read_file('data/GHS_FUA_UCD/GHS_STAT_UCDB2015MT_GLOBE_R2019A_V1_2.gpkg')\n",
    "ucdb_city = ucdb_info.query(f'UC_NM_MN ==\"{city}\"').to_crs(crs = 'EPSG:4326')\n",
    "clon = ucdb_city.centroid.x.values[0]\n",
    "clat = ucdb_city.centroid.y.values[0]"
   ]
  },
  {
   "cell_type": "code",
   "execution_count": 4,
   "id": "697f8cf8-53d8-4927-8388-c85c12da1088",
   "metadata": {},
   "outputs": [],
   "source": [
    "if source != 'UCAN-WRF433':\n",
    "  fxds = xr.open_dataset(urls_fx[source], chunks=dict(lon=10, lat=10))\n",
    "  hrds = xr.open_dataset(urls_1hr[source], chunks=dict(lon=10, lat=10))\n",
    "else:\n",
    "  fxds = xr.open_dataset(urls_fx[source])\n",
    "  hrds = xr.open_dataset(urls_1hr[source], chunks=dict(rlon=10, rlat=10))"
   ]
  },
  {
   "cell_type": "code",
   "execution_count": 5,
   "id": "eac97123-7e48-4938-8205-b76a452b19d4",
   "metadata": {},
   "outputs": [
    {
     "name": "stdout",
     "output_type": "stream",
     "text": [
      "[#####                                   ] | 12% Completed |  5min 59.7s\n"
     ]
    },
    {
     "name": "stderr",
     "output_type": "stream",
     "text": [
      "\n",
      "KeyboardInterrupt\n",
      "\n"
     ]
    },
    {
     "data": {
      "image/png": "[encoded data removed]",
      "text/plain": [
       "<Figure size 1152x864 with 1 Axes>"
      ]
     },
     "metadata": {
      "needs_background": "light"
     },
     "output_type": "display_data"
    }
   ],
   "source": [
    "lonlat = ccrs.PlateCarree()\n",
    "proj = lonlat\n",
    "f = plt.figure(figsize=(16,12))\n",
    "ax = plt.axes(projection=proj)\n",
    "fxds.orog.where(fxds.sftlf > 50.).fillna(orog_vlim['vmin']+100).plot(\n",
    "    ax=ax, x='lon', y='lat', transform=lonlat, cmap=plt.cm.terrain, **orog_vlim\n",
    ")\n",
    "fxds.landuse.where(fxds.landuse == MODIS_LAND_USE['Urban and built-up']).plot(\n",
    "    ax=ax, x='lon', y='lat', transform=lonlat, cmap=plt.cm.gray_r, vmin=0, vmax=1\n",
    ")\n",
    "ax.set_extent([clon-size, clon+size, clat-size, clat+size], crs=lonlat)\n",
    "plt.title(f'{fxds.model_id} (land-frac > {land_thres}, urb-frac > {urban_thres})')\n",
    "lons, lats = list(zip(*[(site['lon'], site['lat']) for site in loc[city].values()]))\n",
    "ax.plot(lons, lats, 'o', markeredgecolor='w', markeredgewidth=2, markerfacecolor='none', transform=lonlat)\n",
    "#ax.coastlines(resolution='10m', linewidth=1, color='k')\n",
    "ucdb_city.plot(ax=ax, transform=lonlat, facecolor=\"none\", edgecolor=\"red\")\n",
    "plt.savefig(f'figs/{pcity}_{source}.png', facecolor='white')"
   ]
  },
  {
   "cell_type": "markdown",
   "id": "bc999f88-d40b-448a-b8f9-95bd03ee1104",
   "metadata": {},
   "source": [
    "```python\n",
    "f = plt.figure(figsize=(12,12))\n",
    "ax = plt.axes(projection=proj)\n",
    "fxds.landuse.plot(ax=ax, x='lon', y='lat', transform=lonlat, cmap='tab20c')\n",
    "ax.set_extent([clon-size, clon+size, clat-size, clat+size], crs=lonlat)\n",
    "```"
   ]
  },
  {
   "cell_type": "code",
   "execution_count": 6,
   "id": "b7c192af-c3f5-4463-9f92-ac3482a5f467",
   "metadata": {},
   "outputs": [],
   "source": [
    "def get_var_ts(ds, var, target_lon, target_lat, geods=None, is_curvilinear=True):\n",
    "  '''Retrieve time series for a given variable closest to a target location'''\n",
    "  if is_curvilinear:\n",
    "    if geods is None:\n",
    "      geods = ds\n",
    "    dist = (geods['lon']-target_lon)**2 + (geods['lat']-target_lat)**2\n",
    "    [ilat], [ilon] = np.where(dist == np.min(dist))\n",
    "    return(ds[var].isel(rlat=ilat, rlon=ilon))\n",
    "  else:\n",
    "    return(ds[var].sel(lat=target_lat, lon=target_lon, method='nearest'))\n",
    "\n",
    "def get_station_ts(city, site):\n",
    "  datecols = ['year', 'month', 'day', 'hour']\n",
    "  df = pd.read_fwf(f'Datos/2018-2021-{st_name[city][site]}.dat',\n",
    "    header = None,\n",
    "    names = datecols + ['tasC', 'hurs1', 'sfcWind']\n",
    "  )\n",
    "  return(df\n",
    "    .assign(tas = df.tasC + 273.15, hurs = df.hurs1 * 100.)\n",
    "    .drop(columns = ['tasC', 'hurs1'])\n",
    "    .assign(time = pd.to_datetime(df[datecols]))\n",
    "    .set_index('time')\n",
    "    .drop(columns=datecols)\n",
    "    .to_xarray()\n",
    "  )\n",
    "\n",
    "def get_time_filter(ts, season, select = 'all', event_days = None):\n",
    "    if season == 'ann':\n",
    "      tfilter = ts.time.dt.season != season\n",
    "    else:\n",
    "      tfilter = ts.time.dt.season == season\n",
    "    if select != 'all':\n",
    "      # There must be a simpler way\n",
    "      hwfilter = pd.Series([pd.Timestamp(item).to_datetime64() for item in ts.time.dt.date.values]).isin(event_days).values\n",
    "      tfilter = tfilter.values & hwfilter\n",
    "    return(tfilter)"
   ]
  },
  {
   "cell_type": "code",
   "execution_count": 7,
   "id": "763bb091-53f6-4275-8c82-98f662064d84",
   "metadata": {},
   "outputs": [],
   "source": [
    "if select == 'heatwaves':\n",
    "  htas = get_var_ts(hrds, 'tas', loc[city]['urb']['lon'], loc[city]['urb']['lat'], geods=fxds).compute()\n",
    "  tasmax = htas.resample(time='1D').max()\n",
    "  summer = tasmax.time.dt.season == 'DJF'\n",
    "  p90summer = tasmax[summer].quantile(0.9, dim='time').values\n",
    "  tasmaxs = tasmax.to_series().reset_index()\n",
    "# runs not working properly yet:\n",
    "#tasmaxs.tas[tasmaxs.tas>p90summer].plot()\n",
    "#runs = (tasmaxs\n",
    "#  .groupby((tasmaxs.tas>p90summer).cumsum())\n",
    "#  .agg(\n",
    "#    since = ('time', 'first'),\n",
    "#    until = ('time', 'last'),\n",
    "#    tas = ('tas', 'first'),\n",
    "#    rlen = ('tas', 'size')\n",
    "#  )\n",
    "#)\n",
    "  # select just days exceeding summer p90\n",
    "  event_days = tasmaxs.time[(tasmaxs.tas>p90summer)].values\n",
    "else:\n",
    "  event_days = None"
   ]
  },
  {
   "cell_type": "code",
   "execution_count": null,
   "id": "48079f56-ee13-442b-9955-b699fee2dd35",
   "metadata": {},
   "outputs": [
    {
     "name": "stdout",
     "output_type": "stream",
     "text": [
      "[                                        ] | 0% Completed |  3min 15.7s"
     ]
    }
   ],
   "source": [
    "station_data = {}\n",
    "sites = ['urb', 'rur']\n",
    "for site in sites:\n",
    "  station_data[site] = get_station_ts(city, site)\n",
    "\n",
    "for var in ['sfcWind', 'hurs', 'tas']:\n",
    "  ts = {}\n",
    "  for site in sites:\n",
    "    if var == 'sfcWind':\n",
    "      u = get_var_ts(hrds, 'uas', loc[city][site]['lon'], loc[city][site]['lat'],\n",
    "                     geods=fxds, is_curvilinear = source=='UCAN-WRF433').compute()\n",
    "      v = get_var_ts(hrds, 'vas', loc[city][site]['lon'], loc[city][site]['lat'],\n",
    "                     geods=fxds, is_curvilinear = source=='UCAN-WRF433').compute()\n",
    "      ts[site] = np.sqrt(u**2 + v**2)\n",
    "      ts[site].attrs.update(long_name = 'Near-Surface Wind speed', units = 'm s-1')\n",
    "    else:\n",
    "      ts[site] = get_var_ts(hrds, var, loc[city][site]['lon'], loc[city][site]['lat'],\n",
    "        geods=fxds, is_curvilinear = source=='UCAN-WRF433'\n",
    "      ).compute()\n",
    "\n",
    "  seasons = ['DJF', 'JJA', 'ann']\n",
    "  for season in seasons:\n",
    "    tfilter = get_time_filter(ts[site], season, select, event_days)\n",
    "    obstfilter = get_time_filter(station_data[site], season, select, event_days)\n",
    "    dc = {}\n",
    "    obsdc = {}\n",
    "    for site in sites:\n",
    "      dc[site] = ts[site].sel(time=tfilter).groupby('time.hour').mean(dim='time')\n",
    "      obsdc[site] = station_data[site][var].sel(time=obstfilter).groupby('time.hour').mean(dim='time')\n",
    "    \n",
    "    f, ax = plt.subplots(2,1, figsize=(7,8))\n",
    "    title = ''\n",
    "    if source == 'USP-RegCM471': # 3hr data\n",
    "      ilocalshift=-1; localshift = -3\n",
    "    else:\n",
    "      ilocalshift=-3; localshift = ilocalshift\n",
    "    legend_text = []\n",
    "    for site in sites:\n",
    "      dc[site].roll(hour=ilocalshift).plot(ax = ax[0], color=line_color[site])\n",
    "      obsdc[site].roll(hour=localshift).plot(ax = ax[0], linestyle = 'dashed', linewidth=3, color=line_color[site])\n",
    "      title += f' {site} [lon: {dc[site].lon.values:.3f} lat: {dc[site].lat.values:.3f}]'\n",
    "      legend_text += [f'{site} - model', f'{site} - obs']\n",
    "    ax[0].set_title(title)\n",
    "    ax[0].set_xlabel(f'hour [UTC{localshift}] in {season}')\n",
    "    if select == 'heatwaves' and var == 'tas':\n",
    "      ax[0].axhline(y=p90summer, color='lightgrey', linestyle=':')\n",
    "    ax[0].set_ylim(ylim_var[var])\n",
    "    ax[0].legend(legend_text)\n",
    "\n",
    "    (dc['urb']-dc['rur']).roll(hour=ilocalshift).plot(ax=ax[1], color='k')\n",
    "    (obsdc['urb']-obsdc['rur']).roll(hour=localshift).plot(ax=ax[1], linestyle = 'dashed', linewidth=3, color='k')\n",
    "    ax[1].set_title(f'Difference urban - rural')\n",
    "    ax[1].set_xlabel(f'hour [UTC{localshift}] in {season}')\n",
    "    ax[1].axhline(y=0, color='lightgrey')\n",
    "    ax[1].set_ylim(ylim_vardiff[var])\n",
    "    ax[1].legend(['urb-rur model', 'urb-rur obs'])\n",
    "  \n",
    "    f.suptitle(f'Urban {var} island (daily cycle) at {city} / {source}', weight='bold')\n",
    "    f.tight_layout()\n",
    "\n",
    "    if select == 'all':\n",
    "      figname = f'figs/UHI_{var}_{pcity}_{source}_dc_{season}.png'\n",
    "    else:\n",
    "      figname = f'figs/UHI_{var}_{pcity}_{source}_dc_{season}_{select}.png'\n",
    "    plt.savefig(figname, facecolor='white')\n",
    "    \n",
    "    if select == 'heatwaves':\n",
    "      # just meaningful for summer (DJF)\n",
    "      break"
   ]
  }
 ],
 "metadata": {
  "kernelspec": {
   "display_name": "Python 3 (ipykernel)",
   "language": "python",
   "name": "python3"
  },
  "language_info": {
   "codemirror_mode": {
    "name": "ipython",
    "version": 3
   },
   "file_extension": ".py",
   "mimetype": "text/x-python",
   "name": "python",
   "nbconvert_exporter": "python",
   "pygments_lexer": "ipython3",
   "version": "3.9.13"
  }
 },
 "nbformat": 4,
 "nbformat_minor": 5
}
