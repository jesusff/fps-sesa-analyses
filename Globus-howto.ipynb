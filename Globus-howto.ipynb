{
 "cells": [
  {
   "cell_type": "markdown",
   "id": "cb8632e3-fa0d-4800-8ca2-c6671855daf5",
   "metadata": {},
   "source": [
    "# How to access Globus resources using the command line\n",
    "> Jesus Fernandez / Instituto de Fisica de Cantabria (IFCA), CSIC-Universidad de Cantabria"
   ]
  },
  {
   "cell_type": "markdown",
   "id": "04392cf0-987f-4394-a14f-d4561165f0a2",
   "metadata": {},
   "source": [
    "## Install required software (run just once)\n",
    "\n",
    "We will need the Globus CLI to interact with the server and Globus Connect Personal to setup your own end-point, in order to be able to place unattended batch requests."
   ]
  },
  {
   "cell_type": "markdown",
   "id": "9374c0c5-da9a-4005-ab04-32dbd65b877d",
   "metadata": {},
   "source": [
    "### Install Globus CLI\n",
    "\n",
    "This is available through conda (or mamba). Here we are creating a specific environment for Globus:"
   ]
  },
  {
   "cell_type": "markdown",
   "id": "c4f30d2c-b4bf-416b-b897-48eda68bdd3f",
   "metadata": {},
   "source": [
    "```bash\n",
    "mamba create -n globus\n",
    "mamba activate globus\n",
    "mamba install globus-cli\n",
    "```"
   ]
  },
  {
   "cell_type": "markdown",
   "id": "500b2544-522b-45e7-9e6f-410f3335b6ca",
   "metadata": {},
   "source": [
    "This provides the `globus` command that we will use below."
   ]
  },
  {
   "cell_type": "markdown",
   "id": "df2aa86f-d715-419e-aa4d-9ddffc50f395",
   "metadata": {},
   "source": [
    "### Install Globus Connect Personal\n",
    "\n",
    "This is available from globus.org. Download the latest version and just unpack the tar file:"
   ]
  },
  {
   "cell_type": "markdown",
   "id": "ee276664-4c14-4543-a490-7657643fd6cb",
   "metadata": {},
   "source": [
    "```bash\n",
    "wget https://downloads.globus.org/globus-connect-personal/linux/stable/globusconnectpersonal-latest.tgz\n",
    "tar xzf globusconnectpersonal-latest.tgz\n",
    "cd globusconnectpersonal-3.1.6/\n",
    "```"
   ]
  },
  {
   "cell_type": "markdown",
   "id": "81456386-647c-40c2-ab9b-9a4781b4e362",
   "metadata": {},
   "source": [
    "### Setup your Globus local server\n",
    "\n",
    "At this point you need a Globus account. You can get one from https://www.globusid.org/create. Use these credentials when requested by the following command:"
   ]
  },
  {
   "cell_type": "code",
   "execution_count": null,
   "id": "63c82b77-2c02-4342-b3ff-16ec0c5377e7",
   "metadata": {},
   "outputs": [],
   "source": [
    "globus login"
   ]
  },
  {
   "cell_type": "markdown",
   "id": "67295495-5d4b-4002-8ac6-37ab950ccd67",
   "metadata": {},
   "source": [
    "Next, you can create a local endpoint for your computer. Below, it is named `my-local-endpoint`, but use a sensible name (e.g. your computer name) because this will appear on the globus searches:"
   ]
  },
  {
   "cell_type": "code",
   "execution_count": null,
   "id": "fef50f30-92af-43a4-9beb-68f1c9ac6a8c",
   "metadata": {},
   "outputs": [],
   "source": [
    "globus endpoint create --personal my-local-endpoint"
   ]
  },
  {
   "cell_type": "markdown",
   "id": "2dead78b-be85-48c1-90ed-5ed675258867",
   "metadata": {},
   "source": [
    "This will return somthing like:\n",
    "```\n",
    "Message:     Endpoint created successfully\n",
    "Endpoint ID: c8dbe48e-62d1-11ee-b819-9b7665fb6de1\n",
    "Setup Key:   182335b6-28d4-4607-8628-451505ccc310\n",
    "```\n",
    "\n",
    "You can setup this endpoint using the Setup Key above:"
   ]
  },
  {
   "cell_type": "code",
   "execution_count": null,
   "id": "b0327c5e-83dd-4ea6-978d-c9fefb9a1b7a",
   "metadata": {},
   "outputs": [],
   "source": [
    "./globusconnectpersonal -setup 182335b6-28d4-4607-8628-451505ccc310"
   ]
  },
  {
   "cell_type": "markdown",
   "id": "3182461c-9fcb-4f8f-ab8d-c4bc32d85dd1",
   "metadata": {},
   "source": [
    "One last step is configuring the paths in your system that this endpoint will show to Globus. I recommend sharing just a given folder for this purpose. This path is setup using the file `~/.globusonline/lta/config-paths`\n",
    "\n",
    "```bash\n",
    "$ cat ~/.globusonline/lta/config-paths \n",
    "/path/to/my/globus/accessible/folder,0,1\n",
    "\n",
    "```\n",
    "We  are now ready to start our personal endpoint and start transfering data with any other globus endpoint."
   ]
  },
  {
   "cell_type": "markdown",
   "id": "9e7af822-4b75-46ff-a69d-c9e24944a5c0",
   "metadata": {},
   "source": [
    "## Start your local endpoint\n",
    "\n",
    "First of all, we need to activate our personal endpoint end. It was already configured in our prious steps, which do not need to be repeated. Just issue:"
   ]
  },
  {
   "cell_type": "code",
   "execution_count": null,
   "id": "3c893cde-437b-4f2d-8c55-ee98ab63781c",
   "metadata": {},
   "outputs": [],
   "source": [
    "./globusconnect -start &"
   ]
  },
  {
   "cell_type": "markdown",
   "id": "cd9abd56-af32-46e0-ac8e-acd4faf19384",
   "metadata": {},
   "source": [
    "This function will be useful below to retrieve the Task ID from our transfer."
   ]
  },
  {
   "cell_type": "code",
   "execution_count": 1,
   "id": "f98d149c-06d7-4333-81a4-49abfd3443fb",
   "metadata": {},
   "outputs": [
    {
     "name": "stdout",
     "output_type": "stream",
     "text": [
      "\u001b[?2004h\u001b[?2004l\u001b[?2004l"
     ]
    },
    {
     "ename": "",
     "evalue": "1",
     "output_type": "error",
     "traceback": []
    }
   ],
   "source": [
    "function return_task_id(){\n",
    "  tee globus-transfer.log | awk -F: '/Task ID/ {print $2}'\n",
    "}"
   ]
  },
  {
   "cell_type": "markdown",
   "id": "7fb11956-5137-41e9-a02a-52120a89fc65",
   "metadata": {},
   "source": [
    "## Log in and search\n",
    "We can now log in, retrieve our Local ID and set the destination folder for our tranfer. This must be accessible to our local server (see above): "
   ]
  },
  {
   "cell_type": "code",
   "execution_count": null,
   "id": "2c2ba350-79e6-47ce-b8a4-d31a2732bf79",
   "metadata": {},
   "outputs": [],
   "source": [
    "globus login\n",
    "globus session show\n",
    "\n",
    "localid=$(globus endpoint local-id)\n",
    "destination=\"${localid}:/path/to/my/globus/accessible/folder/AND/MAYBE/SOME/SUBFOLDER\""
   ]
  },
  {
   "cell_type": "markdown",
   "id": "ab86d32c-116e-497b-ba60-f366f345129b",
   "metadata": {},
   "source": [
    "We can now search for data:"
   ]
  },
  {
   "cell_type": "code",
   "execution_count": 4,
   "id": "4eefb057-b77d-43a7-b8e0-c87c20049cba",
   "metadata": {},
   "outputs": [
    {
     "name": "stdout",
     "output_type": "stream",
     "text": [
      "ID                                   | Owner                                                        | Display Name                             \n",
      "------------------------------------ | ------------------------------------------------------------ | -----------------------------------------\n",
      "5545b63c-c0e6-11ec-8f87-e31722b18688 | edefbccb-49c6-44bb-ba45-73fbb48d2834@clients.auth.globus.org | SAAG20YR HISTORICAL Single Variable Files\n",
      "8fdfaa82-c0e6-11ec-8f87-e31722b18688 | edefbccb-49c6-44bb-ba45-73fbb48d2834@clients.auth.globus.org | SAAG20YR HISTORICAL wrf2d wrf3d          \n",
      "\u001b[?2004h(globus) "
     ]
    },
    {
     "ename": "",
     "evalue": "1",
     "output_type": "error",
     "traceback": []
    }
   ],
   "source": [
    "globus endpoint search SAAG20YR"
   ]
  },
  {
   "cell_type": "markdown",
   "id": "9ce54ac1-2ea3-4c97-9b51-140875d8a346",
   "metadata": {},
   "source": [
    "Get the corresponding ID for a data set endpoint:"
   ]
  },
  {
   "cell_type": "code",
   "execution_count": 5,
   "id": "abba8b18-938a-42c0-a6df-7573134b3352",
   "metadata": {},
   "outputs": [
    {
     "name": "stdout",
     "output_type": "stream",
     "text": [
      "Display Name:                SAAG20YR HISTORICAL Single Variable Files\n",
      "Owner:                       kyoko@identity.7a577b.6fbd.data.globus.org\n",
      "ID:                          5545b63c-c0e6-11ec-8f87-e31722b18688\n",
      "Collection Type:             guest\n",
      "Storage Gateway ID:          0dc590ef-281f-497a-9574-3a2236a8b933\n",
      "Connector:                   POSIX\n",
      "Disable Anonymous Writes:    False\n",
      "High Assurance:              False\n",
      "Authentication Timeout:      43200\n",
      "Multi-factor Authentication: False\n",
      "Manager URL:                 https://7a577b.6fbd.data.globus.org\n",
      "HTTPS URL:                   https://g-1bd04a.7a577b.6fbd.data.globus.org\n",
      "TLSFTP URL:                  tlsftp://g-1bd04a.7a577b.6fbd.data.globus.org:443\n",
      "Force Encryption:            False\n",
      "Public:                      True\n",
      "Keywords:                    ['SAAG', 'WRF', 'NCAR']\n",
      "\u001b[?2004h(globus) "
     ]
    },
    {
     "ename": "",
     "evalue": "1",
     "output_type": "error",
     "traceback": []
    }
   ],
   "source": [
    "endpoint=\"5545b63c-c0e6-11ec-8f87-e31722b18688\" # SAAG20YR HISTORICAL Single Variable Files\n",
    "globus collection show $endpoint"
   ]
  },
  {
   "cell_type": "markdown",
   "id": "c4aac6db-96e0-49bb-8611-4157236f1dc0",
   "metadata": {},
   "source": [
    "And use `globus ls` to explore the contents. Here, we retrieve a file list, ready to be used in a batch transfer:"
   ]
  },
  {
   "cell_type": "code",
   "execution_count": null,
   "id": "dfe99ad6-364a-4d1b-841a-10249ad31f7a",
   "metadata": {},
   "outputs": [],
   "source": [
    "origin=\"${endpoint}:HFX\"\n",
    "globus ls \"${origin}\" | sed 's,\\(.*\\),\\1 \\1,' > filelist.txt\n",
    "cat filelist.txt"
   ]
  },
  {
   "cell_type": "markdown",
   "id": "d3b4a037-98a9-4109-968e-287510a5c118",
   "metadata": {},
   "source": [
    "## Transfer data\n",
    "This file lists the origin and destination names we'd like to use. We can use this file to initiate a transfer:"
   ]
  },
  {
   "cell_type": "code",
   "execution_count": null,
   "id": "f27fc613-9537-44f3-b9e5-5d94c9bf6ea6",
   "metadata": {},
   "outputs": [],
   "source": [
    "# Launch transfer (batch)\n",
    "taskid=$( globus transfer \"${origin}\" \"${destination}\" --label \"Batch transfer\" --batch filelist.txt | return_task_id )\n",
    "cat globus-transfer.log"
   ]
  },
  {
   "cell_type": "markdown",
   "id": "876aed62-4a44-4a69-bcda-bb3daaf9a7aa",
   "metadata": {},
   "source": [
    "You can check the status of your transfer using:"
   ]
  },
  {
   "cell_type": "code",
   "execution_count": null,
   "id": "fb011f5c-6a59-4070-951a-c41d9bdf8ae8",
   "metadata": {},
   "outputs": [],
   "source": [
    "globus task show ${taskid}"
   ]
  }
 ],
 "metadata": {
  "kernelspec": {
   "display_name": "Bash",
   "language": "bash",
   "name": "bash"
  },
  "language_info": {
   "codemirror_mode": "shell",
   "file_extension": ".sh",
   "mimetype": "text/x-sh",
   "name": "bash"
  }
 },
 "nbformat": 4,
 "nbformat_minor": 5
}
